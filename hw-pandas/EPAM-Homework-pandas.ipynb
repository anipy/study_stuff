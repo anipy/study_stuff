{
 "cells": [
  {
   "cell_type": "markdown",
   "metadata": {},
   "source": [
    "# Olympic games medals analysis\n",
    "\n",
    "\n",
    "In this notebook we will analyze `olimpic_medals.csv` dataset for pandas skill training.\n",
    "\n",
    "\n",
    "\n",
    "<sub><sup>Homework for EPAM Training Center, Nizhny Novgorod, Russia, 2020</sup></sub>"
   ]
  },
  {
   "cell_type": "markdown",
   "metadata": {},
   "source": [
    "### First install useful libs and make imports"
   ]
  },
  {
   "cell_type": "code",
   "execution_count": null,
   "metadata": {
    "scrolled": true
   },
   "outputs": [],
   "source": [
    "%pip install -r requirements.txt"
   ]
  },
  {
   "cell_type": "code",
   "execution_count": null,
   "metadata": {},
   "outputs": [],
   "source": [
    "import pandas as pd\n",
    "from iso3166 import countries\n",
    "\n",
    "from codes_mapping import ioc2iso"
   ]
  },
  {
   "cell_type": "markdown",
   "metadata": {},
   "source": [
    "### Then load dataset and take quick look at data"
   ]
  },
  {
   "cell_type": "code",
   "execution_count": null,
   "metadata": {
    "scrolled": true
   },
   "outputs": [],
   "source": [
    "dset = pd.read_csv('olimpic_medals.csv')\n",
    "dset.info()"
   ]
  },
  {
   "cell_type": "code",
   "execution_count": null,
   "metadata": {
    "scrolled": true
   },
   "outputs": [],
   "source": [
    "dset.head(3)"
   ]
  },
  {
   "cell_type": "markdown",
   "metadata": {},
   "source": [
    "### Define some useful functions"
   ]
  },
  {
   "cell_type": "code",
   "execution_count": null,
   "metadata": {},
   "outputs": [],
   "source": [
    "def get_country_name(alpha3code: str) -> str:\n",
    "    \"\"\"Map codes between IOC and ISO formats according to Wikipedia article\n",
    "    (https://en.wikipedia.org/wiki/Comparison_of_alphabetic_country_codes), exclude \n",
    "    former countries and former country names. Return regular country name (from ISO-3166).   \n",
    "    \n",
    "    Args:\n",
    "      alpha3code: three-letter country code\n",
    "      \n",
    "    Returns:\n",
    "      regular country name\"\"\"\n",
    "    \n",
    "    try:\n",
    "        return countries.get(ioc2iso.get(alpha3code, alpha3code)).name\n",
    "    \n",
    "    except KeyError:\n",
    "        return alpha3code"
   ]
  },
  {
   "cell_type": "markdown",
   "metadata": {},
   "source": [
    "### Analysis"
   ]
  },
  {
   "cell_type": "markdown",
   "metadata": {},
   "source": [
    "#### 1. How many medals did Jesse Owens get in 1936 year?\n",
    "\n",
    "Since athlete names are stored as pair of \"family name / first name\", let's switch name and family name in condition. Thus we are searching 'OWENS, Jesse' now. \n",
    "However usually is better to normalize strings to lowercase when searching, that's what we do."
   ]
  },
  {
   "cell_type": "code",
   "execution_count": null,
   "metadata": {
    "scrolled": true
   },
   "outputs": [],
   "source": [
    "mask_year1936 = dset.Edition == 1936\n",
    "mask_jesse = dset.Athlete.str.lower() == 'Owens, Jesse'.lower()\n",
    "\n",
    "cnt = len(dset[(mask_year1936 & mask_jesse)])\n",
    "\n",
    "f'Jesse Owens got {cnt} medal(s) in 1936' "
   ]
  },
  {
   "cell_type": "markdown",
   "metadata": {},
   "source": [
    "#### 2. Which country has won more gold medals in Badminton (men) than others?"
   ]
  },
  {
   "cell_type": "code",
   "execution_count": null,
   "metadata": {
    "scrolled": false
   },
   "outputs": [],
   "source": [
    "mask_medal = dset.Medal == 'Gold'\n",
    "mask_gender = dset.Event_gender == 'M'\n",
    "mask_badminton = dset.Discipline == 'Badminton'\n",
    " \n",
    "alpha3code = dset[(mask_medal & mask_gender & mask_badminton)].NOC.value_counts().idxmax()  # country code\n",
    "country_name = get_country_name(alpha3code)\n",
    "\n",
    "f'Men of {country_name} ({alpha3code}) have won more gold medals in Badminton than others.'"
   ]
  },
  {
   "cell_type": "markdown",
   "metadata": {},
   "source": [
    "#### 3. Which three countries have won more medals  than others from 1984 to 2008?"
   ]
  },
  {
   "cell_type": "code",
   "execution_count": null,
   "metadata": {},
   "outputs": [],
   "source": [
    "mask_years = dset.Edition >= 1984\n",
    "top3 = dset[mask_years].groupby('NOC').count().sort_values(by='Medal', ascending=False)['Medal'][:3]\n",
    "top3.index = top3.index.map(lambda x: f'{get_country_name(x)} ({x})')\n",
    "\n",
    "top3"
   ]
  },
  {
   "cell_type": "markdown",
   "metadata": {},
   "source": [
    "#### 4. Men who won gold medals in 100m sprint"
   ]
  },
  {
   "cell_type": "code",
   "execution_count": null,
   "metadata": {
    "scrolled": true
   },
   "outputs": [],
   "source": [
    "mask_medal = dset.Medal == 'Gold'\n",
    "mask_gender = dset.Event_gender == 'M'\n",
    "mask_100m = dset.Event == '100m'\n",
    "\n",
    "show_cols =['City', 'Edition', 'Athlete', 'NOC']\n",
    "sprint_winners = dset[(mask_medal & mask_gender & mask_100m)][show_cols].sort_values(by='Edition',\n",
    "                                                                                     ascending=False)\n",
    "\n",
    "sprint_winners.NOC = sprint_winners.NOC.map(lambda x: f'{get_country_name(x)} ({x})')\n",
    "\n",
    "sprint_winners"
   ]
  },
  {
   "cell_type": "markdown",
   "metadata": {},
   "source": [
    "#### 5.1 How many medals did men and women win? "
   ]
  },
  {
   "cell_type": "code",
   "execution_count": null,
   "metadata": {},
   "outputs": [],
   "source": [
    "mask_gender_m = dset.Gender == 'Men'\n",
    "mask_gender_w = dset.Gender == 'Women'\n",
    "\n",
    "print(f'Men won {len(dset[mask_gender_m])} medals\\nWomen won {len(dset[mask_gender_w])} medals')"
   ]
  },
  {
   "cell_type": "markdown",
   "metadata": {},
   "source": [
    "#### 5.2 How many gold, silver and bronze medals have won each gender?"
   ]
  },
  {
   "cell_type": "code",
   "execution_count": null,
   "metadata": {},
   "outputs": [],
   "source": [
    "medal_distribution = dset.groupby(['Gender', 'Medal'])['Medal'].agg('count')\n",
    "medal_distribution"
   ]
  },
  {
   "cell_type": "code",
   "execution_count": null,
   "metadata": {
    "scrolled": true
   },
   "outputs": [],
   "source": [
    "medal_distribution.plot.pie()"
   ]
  },
  {
   "cell_type": "code",
   "execution_count": null,
   "metadata": {
    "scrolled": true
   },
   "outputs": [],
   "source": [
    "medal_distribution.plot.bar()"
   ]
  },
  {
   "cell_type": "markdown",
   "metadata": {},
   "source": [
    "#### 6. Count of medals on each Olympics"
   ]
  },
  {
   "cell_type": "code",
   "execution_count": null,
   "metadata": {},
   "outputs": [],
   "source": [
    "cols = { \n",
    "    'Bronze': dset[dset.loc[:, 'Medal'] == 'Bronze'].groupby('Edition').agg('count')['Medal'],\n",
    "    'Silver': dset[dset.loc[:, 'Medal'] == 'Silver'].groupby('Edition').agg('count')['Medal'],\n",
    "    'Gold': dset[dset.loc[:, 'Medal'] == 'Gold'].groupby('Edition').agg('count')['Medal'],\n",
    "}\n",
    "\n",
    "xticks = sorted(list(set(dset.Edition)))\n",
    "\n",
    "pd.DataFrame(cols).plot(figsize=(15,5), xticks=xticks, grid=True)"
   ]
  },
  {
   "cell_type": "markdown",
   "metadata": {},
   "source": [
    "#### 7. Count of medals by countries"
   ]
  },
  {
   "cell_type": "code",
   "execution_count": null,
   "metadata": {},
   "outputs": [],
   "source": [
    "medal_count = dset.groupby('NOC')['Medal'].agg('count')\n",
    "medal_first = dset.groupby('NOC')['Edition'].agg('min')\n",
    "medal_last = dset.groupby('NOC')['Edition'].agg('max')\n",
    "\n",
    "result = pd.DataFrame([medal_count, medal_first, medal_last]).T\n",
    "result.columns = ['Count', 'First', 'Last']\n",
    "result.index = result.index.map(lambda x: f'{get_country_name(x)} ({x})')\n",
    "\n",
    "pd.set_option('display.max_rows', len(result))\n",
    "result"
   ]
  },
  {
   "cell_type": "markdown",
   "metadata": {},
   "source": [
    "#### 8. Athletes on 200m or 100m distances with medals in Beijing"
   ]
  },
  {
   "cell_type": "code",
   "execution_count": null,
   "metadata": {},
   "outputs": [],
   "source": [
    "mask_beijing = dset.City == 'Beijing'\n",
    "mask_discipline = (dset.Event == '100m') | (dset.Event == '200m')\n",
    "dset[mask_beijing & mask_discipline]"
   ]
  },
  {
   "cell_type": "markdown",
   "metadata": {},
   "source": [
    "#### 9. USA gold medals for men and women in Athletics"
   ]
  },
  {
   "cell_type": "code",
   "execution_count": null,
   "metadata": {
    "scrolled": true
   },
   "outputs": [],
   "source": [
    "mask_athletics = dset.Discipline == 'Athletics'\n",
    "mask_medal = dset.Medal == 'Gold'\n",
    "mask_usa = dset.NOC == 'USA'\n",
    "mask_m = dset.Gender == 'Men'\n",
    "mask_w = dset.Gender == 'Women'\n",
    "\n",
    "cols = {\n",
    "    'Men': dset[mask_athletics & mask_medal & mask_usa & mask_m].groupby('Edition').agg('count')['Medal'],\n",
    "    'Women': dset[mask_athletics & mask_medal & mask_usa & mask_w].groupby('Edition').agg('count')['Medal']\n",
    "}\n",
    "\n",
    "pd.DataFrame(cols).plot(kind='bar', figsize=(15,5))"
   ]
  },
  {
   "cell_type": "markdown",
   "metadata": {},
   "source": [
    "#### 10. Top 5 athletes by gold medal count"
   ]
  },
  {
   "cell_type": "code",
   "execution_count": null,
   "metadata": {},
   "outputs": [],
   "source": [
    "dset[dset.Medal == 'Gold'].groupby('Athlete').agg('count')['Medal'].sort_values(ascending=False)[:5].plot(kind='barh')"
   ]
  },
  {
   "cell_type": "markdown",
   "metadata": {},
   "source": [
    "#### 11. Count medals on last Olympics"
   ]
  },
  {
   "cell_type": "code",
   "execution_count": null,
   "metadata": {
    "scrolled": true
   },
   "outputs": [],
   "source": [
    "last_year = dset.Edition.max()\n",
    "medal_count = dset[dset.Edition == last_year].agg('count')['Medal']\n",
    "\n",
    "f'Total medals got in {last_year} year is {medal_count}.'"
   ]
  },
  {
   "cell_type": "markdown",
   "metadata": {},
   "source": [
    "#### 12. Top US athletes by years"
   ]
  },
  {
   "cell_type": "code",
   "execution_count": null,
   "metadata": {
    "scrolled": true
   },
   "outputs": [],
   "source": [
    "us_only = dset[dset.loc[:, 'NOC'] == 'USA']\n",
    "\n",
    "year_groups = us_only.groupby(['Edition', 'Athlete', 'Discipline']).agg('count').reset_index()\n",
    "\n",
    "result = year_groups.loc[year_groups.groupby('Edition')['Medal'].idxmax()]\n",
    "result = result.loc[:, ['Edition', 'Athlete', 'Discipline', 'Medal']]\n",
    "result.columns = ['Year', 'Athlete', 'Discipline', 'Medal_count']\n",
    "\n",
    "result"
   ]
  }
 ],
 "metadata": {
  "kernelspec": {
   "display_name": "Python 3",
   "language": "python",
   "name": "python3"
  },
  "language_info": {
   "codemirror_mode": {
    "name": "ipython",
    "version": 3
   },
   "file_extension": ".py",
   "mimetype": "text/x-python",
   "name": "python",
   "nbconvert_exporter": "python",
   "pygments_lexer": "ipython3",
   "version": "3.8.3"
  }
 },
 "nbformat": 4,
 "nbformat_minor": 4
}
